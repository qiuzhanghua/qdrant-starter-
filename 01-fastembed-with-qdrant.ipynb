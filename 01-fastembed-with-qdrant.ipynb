{
 "cells": [
  {
   "cell_type": "code",
   "execution_count": 7,
   "id": "initial_id",
   "metadata": {
    "ExecuteTime": {
     "end_time": "2024-12-12T09:48:51.068223Z",
     "start_time": "2024-12-12T09:48:50.387315Z"
    },
    "collapsed": true
   },
   "outputs": [
    {
     "name": "stderr",
     "output_type": "stream",
     "text": [
      "huggingface/tokenizers: The current process just got forked, after parallelism has already been used. Disabling parallelism to avoid deadlocks...\n",
      "To disable this warning, you can either:\n",
      "\t- Avoid using `tokenizers` before the fork if possible\n",
      "\t- Explicitly set the environment variable TOKENIZERS_PARALLELISM=(true | false)\n"
     ]
    },
    {
     "name": "stdout",
     "output_type": "stream",
     "text": [
      "Requirement already satisfied: qdrant-client in /Users/q/anaconda3/envs/all/lib/python3.11/site-packages (1.12.1)\r\n",
      "Requirement already satisfied: grpcio>=1.41.0 in /Users/q/anaconda3/envs/all/lib/python3.11/site-packages (from qdrant-client) (1.68.1)\r\n",
      "Requirement already satisfied: grpcio-tools>=1.41.0 in /Users/q/anaconda3/envs/all/lib/python3.11/site-packages (from qdrant-client) (1.68.1)\r\n",
      "Requirement already satisfied: httpx>=0.20.0 in /Users/q/anaconda3/envs/all/lib/python3.11/site-packages (from httpx[http2]>=0.20.0->qdrant-client) (0.27.0)\r\n",
      "Requirement already satisfied: numpy>=1.21 in /Users/q/anaconda3/envs/all/lib/python3.11/site-packages (from qdrant-client) (1.26.4)\r\n",
      "Requirement already satisfied: portalocker<3.0.0,>=2.7.0 in /Users/q/anaconda3/envs/all/lib/python3.11/site-packages (from qdrant-client) (2.10.1)\r\n",
      "Requirement already satisfied: pydantic>=1.10.8 in /Users/q/anaconda3/envs/all/lib/python3.11/site-packages (from qdrant-client) (2.9.2)\r\n",
      "Requirement already satisfied: urllib3<3,>=1.26.14 in /Users/q/anaconda3/envs/all/lib/python3.11/site-packages (from qdrant-client) (1.26.20)\r\n",
      "Requirement already satisfied: protobuf<6.0dev,>=5.26.1 in /Users/q/anaconda3/envs/all/lib/python3.11/site-packages (from grpcio-tools>=1.41.0->qdrant-client) (5.28.3)\r\n",
      "Requirement already satisfied: setuptools in /Users/q/anaconda3/envs/all/lib/python3.11/site-packages (from grpcio-tools>=1.41.0->qdrant-client) (75.1.0)\r\n",
      "Requirement already satisfied: anyio in /Users/q/anaconda3/envs/all/lib/python3.11/site-packages (from httpx>=0.20.0->httpx[http2]>=0.20.0->qdrant-client) (4.6.2)\r\n",
      "Requirement already satisfied: certifi in /Users/q/anaconda3/envs/all/lib/python3.11/site-packages (from httpx>=0.20.0->httpx[http2]>=0.20.0->qdrant-client) (2024.8.30)\r\n",
      "Requirement already satisfied: httpcore==1.* in /Users/q/anaconda3/envs/all/lib/python3.11/site-packages (from httpx>=0.20.0->httpx[http2]>=0.20.0->qdrant-client) (1.0.2)\r\n",
      "Requirement already satisfied: idna in /Users/q/anaconda3/envs/all/lib/python3.11/site-packages (from httpx>=0.20.0->httpx[http2]>=0.20.0->qdrant-client) (3.7)\r\n",
      "Requirement already satisfied: sniffio in /Users/q/anaconda3/envs/all/lib/python3.11/site-packages (from httpx>=0.20.0->httpx[http2]>=0.20.0->qdrant-client) (1.3.0)\r\n",
      "Requirement already satisfied: h11<0.15,>=0.13 in /Users/q/anaconda3/envs/all/lib/python3.11/site-packages (from httpcore==1.*->httpx>=0.20.0->httpx[http2]>=0.20.0->qdrant-client) (0.14.0)\r\n",
      "Requirement already satisfied: h2<5,>=3 in /Users/q/anaconda3/envs/all/lib/python3.11/site-packages (from httpx[http2]>=0.20.0->qdrant-client) (4.1.0)\r\n",
      "Requirement already satisfied: annotated-types>=0.6.0 in /Users/q/anaconda3/envs/all/lib/python3.11/site-packages (from pydantic>=1.10.8->qdrant-client) (0.7.0)\r\n",
      "Requirement already satisfied: pydantic-core==2.23.4 in /Users/q/anaconda3/envs/all/lib/python3.11/site-packages (from pydantic>=1.10.8->qdrant-client) (2.23.4)\r\n",
      "Requirement already satisfied: typing-extensions>=4.6.1 in /Users/q/anaconda3/envs/all/lib/python3.11/site-packages (from pydantic>=1.10.8->qdrant-client) (4.11.0)\r\n",
      "Requirement already satisfied: hyperframe<7,>=6.0 in /Users/q/anaconda3/envs/all/lib/python3.11/site-packages (from h2<5,>=3->httpx[http2]>=0.20.0->qdrant-client) (6.0.1)\r\n",
      "Requirement already satisfied: hpack<5,>=4.0 in /Users/q/anaconda3/envs/all/lib/python3.11/site-packages (from h2<5,>=3->httpx[http2]>=0.20.0->qdrant-client) (4.0.0)\r\n"
     ]
    }
   ],
   "source": [
    "#pip install qdrant-client"
   ]
  },
  {
   "cell_type": "code",
   "execution_count": 8,
   "id": "2def63f14e101072",
   "metadata": {
    "ExecuteTime": {
     "end_time": "2024-12-12T09:48:51.739846Z",
     "start_time": "2024-12-12T09:48:51.071974Z"
    }
   },
   "outputs": [
    {
     "name": "stderr",
     "output_type": "stream",
     "text": [
      "huggingface/tokenizers: The current process just got forked, after parallelism has already been used. Disabling parallelism to avoid deadlocks...\n",
      "To disable this warning, you can either:\n",
      "\t- Avoid using `tokenizers` before the fork if possible\n",
      "\t- Explicitly set the environment variable TOKENIZERS_PARALLELISM=(true | false)\n"
     ]
    },
    {
     "name": "stdout",
     "output_type": "stream",
     "text": [
      "Requirement already satisfied: fastembed in /Users/q/anaconda3/envs/all/lib/python3.11/site-packages (0.4.2)\r\n",
      "Requirement already satisfied: huggingface-hub<1.0,>=0.20 in /Users/q/anaconda3/envs/all/lib/python3.11/site-packages (from fastembed) (0.26.2)\r\n",
      "Requirement already satisfied: loguru<0.8.0,>=0.7.2 in /Users/q/anaconda3/envs/all/lib/python3.11/site-packages (from fastembed) (0.7.3)\r\n",
      "Requirement already satisfied: mmh3<5.0.0,>=4.1.0 in /Users/q/anaconda3/envs/all/lib/python3.11/site-packages (from fastembed) (4.1.0)\r\n",
      "Requirement already satisfied: numpy>=1.21 in /Users/q/anaconda3/envs/all/lib/python3.11/site-packages (from fastembed) (1.26.4)\r\n",
      "Requirement already satisfied: onnx<2.0.0,>=1.15.0 in /Users/q/anaconda3/envs/all/lib/python3.11/site-packages (from fastembed) (1.17.0)\r\n",
      "Requirement already satisfied: onnxruntime<1.20.0,>=1.17.0 in /Users/q/anaconda3/envs/all/lib/python3.11/site-packages (from fastembed) (1.19.2)\r\n",
      "Requirement already satisfied: pillow<11.0.0,>=10.3.0 in /Users/q/anaconda3/envs/all/lib/python3.11/site-packages (from fastembed) (10.4.0)\r\n",
      "Requirement already satisfied: py-rust-stemmers<0.2.0,>=0.1.0 in /Users/q/anaconda3/envs/all/lib/python3.11/site-packages (from fastembed) (0.1.3)\r\n",
      "Requirement already satisfied: requests<3.0,>=2.31 in /Users/q/anaconda3/envs/all/lib/python3.11/site-packages (from fastembed) (2.32.3)\r\n",
      "Requirement already satisfied: tokenizers<1.0,>=0.15 in /Users/q/anaconda3/envs/all/lib/python3.11/site-packages (from fastembed) (0.20.3)\r\n",
      "Requirement already satisfied: tqdm<5.0,>=4.66 in /Users/q/anaconda3/envs/all/lib/python3.11/site-packages (from fastembed) (4.66.6)\r\n",
      "Requirement already satisfied: filelock in /Users/q/anaconda3/envs/all/lib/python3.11/site-packages (from huggingface-hub<1.0,>=0.20->fastembed) (3.13.1)\r\n",
      "Requirement already satisfied: fsspec>=2023.5.0 in /Users/q/anaconda3/envs/all/lib/python3.11/site-packages (from huggingface-hub<1.0,>=0.20->fastembed) (2024.9.0)\r\n",
      "Requirement already satisfied: packaging>=20.9 in /Users/q/anaconda3/envs/all/lib/python3.11/site-packages (from huggingface-hub<1.0,>=0.20->fastembed) (24.1)\r\n",
      "Requirement already satisfied: pyyaml>=5.1 in /Users/q/anaconda3/envs/all/lib/python3.11/site-packages (from huggingface-hub<1.0,>=0.20->fastembed) (6.0.2)\r\n",
      "Requirement already satisfied: typing-extensions>=3.7.4.3 in /Users/q/anaconda3/envs/all/lib/python3.11/site-packages (from huggingface-hub<1.0,>=0.20->fastembed) (4.11.0)\r\n",
      "Requirement already satisfied: protobuf>=3.20.2 in /Users/q/anaconda3/envs/all/lib/python3.11/site-packages (from onnx<2.0.0,>=1.15.0->fastembed) (5.28.3)\r\n",
      "Requirement already satisfied: coloredlogs in /Users/q/anaconda3/envs/all/lib/python3.11/site-packages (from onnxruntime<1.20.0,>=1.17.0->fastembed) (15.0.1)\r\n",
      "Requirement already satisfied: flatbuffers in /Users/q/anaconda3/envs/all/lib/python3.11/site-packages (from onnxruntime<1.20.0,>=1.17.0->fastembed) (24.3.25)\r\n",
      "Requirement already satisfied: sympy in /Users/q/anaconda3/envs/all/lib/python3.11/site-packages (from onnxruntime<1.20.0,>=1.17.0->fastembed) (1.13.1)\r\n",
      "Requirement already satisfied: charset-normalizer<4,>=2 in /Users/q/anaconda3/envs/all/lib/python3.11/site-packages (from requests<3.0,>=2.31->fastembed) (3.3.2)\r\n",
      "Requirement already satisfied: idna<4,>=2.5 in /Users/q/anaconda3/envs/all/lib/python3.11/site-packages (from requests<3.0,>=2.31->fastembed) (3.7)\r\n",
      "Requirement already satisfied: urllib3<3,>=1.21.1 in /Users/q/anaconda3/envs/all/lib/python3.11/site-packages (from requests<3.0,>=2.31->fastembed) (1.26.20)\r\n",
      "Requirement already satisfied: certifi>=2017.4.17 in /Users/q/anaconda3/envs/all/lib/python3.11/site-packages (from requests<3.0,>=2.31->fastembed) (2024.8.30)\r\n",
      "Requirement already satisfied: humanfriendly>=9.1 in /Users/q/anaconda3/envs/all/lib/python3.11/site-packages (from coloredlogs->onnxruntime<1.20.0,>=1.17.0->fastembed) (10.0)\r\n",
      "Requirement already satisfied: mpmath<1.4,>=1.1.0 in /Users/q/anaconda3/envs/all/lib/python3.11/site-packages (from sympy->onnxruntime<1.20.0,>=1.17.0->fastembed) (1.3.0)\r\n"
     ]
    }
   ],
   "source": [
    "!pip install fastembed"
   ]
  },
  {
   "cell_type": "code",
   "execution_count": 9,
   "id": "a9d8409bb7e09f23",
   "metadata": {
    "ExecuteTime": {
     "end_time": "2024-12-12T09:48:51.746951Z",
     "start_time": "2024-12-12T09:48:51.745247Z"
    }
   },
   "outputs": [],
   "source": [
    "from qdrant_client import QdrantClient\n",
    "\n",
    "client = QdrantClient(\":memory:\")  # Qdrant is running from RAM."
   ]
  },
  {
   "cell_type": "code",
   "execution_count": 10,
   "id": "5a1d64778ef186be",
   "metadata": {
    "ExecuteTime": {
     "end_time": "2024-12-12T09:48:51.753117Z",
     "start_time": "2024-12-12T09:48:51.751513Z"
    }
   },
   "outputs": [],
   "source": [
    "docs = [\"Qdrant has a LangChain integration for chatbots.\", \"Qdrant has a LlamaIndex integration for agents.\"]\n",
    "metadata = [\n",
    "    {\"source\": \"langchain-docs\"},\n",
    "    {\"source\": \"llamaindex-docs\"},\n",
    "]\n",
    "ids = [42, 2]"
   ]
  },
  {
   "cell_type": "code",
   "execution_count": 11,
   "id": "ed4e8421879a993c",
   "metadata": {
    "ExecuteTime": {
     "end_time": "2024-12-12T09:48:51.764956Z",
     "start_time": "2024-12-12T09:48:51.756978Z"
    }
   },
   "outputs": [
    {
     "data": {
      "text/plain": [
       "[42, 2]"
      ]
     },
     "execution_count": 11,
     "metadata": {},
     "output_type": "execute_result"
    }
   ],
   "source": [
    "client.add(\n",
    "    collection_name=\"test_collection\",\n",
    "    documents=docs,\n",
    "    metadata=metadata,\n",
    "    ids=ids\n",
    ")"
   ]
  },
  {
   "cell_type": "code",
   "execution_count": 12,
   "id": "9b8acc4b7e423c93",
   "metadata": {
    "ExecuteTime": {
     "end_time": "2024-12-12T09:48:51.840445Z",
     "start_time": "2024-12-12T09:48:51.831266Z"
    }
   },
   "outputs": [
    {
     "name": "stdout",
     "output_type": "stream",
     "text": [
      "[QueryResponse(id=2, embedding=None, sparse_embedding=None, metadata={'document': 'Qdrant has a LlamaIndex integration for agents.', 'source': 'llamaindex-docs'}, document='Qdrant has a LlamaIndex integration for agents.', score=0.8749180370667156), QueryResponse(id=42, embedding=None, sparse_embedding=None, metadata={'document': 'Qdrant has a LangChain integration for chatbots.', 'source': 'langchain-docs'}, document='Qdrant has a LangChain integration for chatbots.', score=0.8351846822959111)]\n"
     ]
    }
   ],
   "source": [
    "search_result = client.query(\n",
    "    collection_name=\"test_collection\",\n",
    "    query_text=\"Which integration is best for agents?\"\n",
    ")\n",
    "print(search_result)"
   ]
  },
  {
   "cell_type": "code",
   "execution_count": null,
   "id": "f56b86339b873e17",
   "metadata": {
    "ExecuteTime": {
     "end_time": "2024-12-12T09:48:51.912383Z",
     "start_time": "2024-12-12T09:48:51.910871Z"
    }
   },
   "outputs": [],
   "source": []
  }
 ],
 "metadata": {
  "kernelspec": {
   "display_name": "all",
   "language": "python",
   "name": "python3"
  },
  "language_info": {
   "codemirror_mode": {
    "name": "ipython",
    "version": 2
   },
   "file_extension": ".py",
   "mimetype": "text/x-python",
   "name": "python",
   "nbconvert_exporter": "python",
   "pygments_lexer": "ipython2",
   "version": "3.11.11"
  }
 },
 "nbformat": 4,
 "nbformat_minor": 5
}
