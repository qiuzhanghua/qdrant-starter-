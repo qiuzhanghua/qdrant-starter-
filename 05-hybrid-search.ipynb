{
 "cells": [
  {
   "cell_type": "code",
   "execution_count": null,
   "id": "initial_id",
   "metadata": {
    "collapsed": true
   },
   "outputs": [],
   "source": [
    "#pip install \"qdrant-client[fastembed]>=1.8.2\""
   ]
  },
  {
   "cell_type": "code",
   "execution_count": null,
   "id": "7d00882578e2e043",
   "metadata": {},
   "outputs": [],
   "source": [
    "# Import client library\n",
    "from qdrant_client import QdrantClient\n",
    "\n",
    "client = QdrantClient(url=\"http://localhost:6333\")"
   ]
  },
  {
   "cell_type": "code",
   "execution_count": null,
   "id": "b2f7dcb047a92a6f",
   "metadata": {},
   "outputs": [],
   "source": [
    "client.set_model(\"sentence-transformers/all-MiniLM-L6-v2\")\n",
    "# comment this line to use dense vectors only\n",
    "client.set_sparse_model(\"prithivida/Splade_PP_en_v1\")"
   ]
  },
  {
   "cell_type": "code",
   "execution_count": null,
   "id": "437dca62cf6eab65",
   "metadata": {},
   "outputs": [],
   "source": [
    "if client.collection_exists(\"startups\"):\n",
    "    client.delete_collection(\"startups\")"
   ]
  },
  {
   "cell_type": "code",
   "execution_count": null,
   "id": "8618fe63fe0119b9",
   "metadata": {},
   "outputs": [],
   "source": [
    "if not client.collection_exists(\"startups\"):\n",
    "    client.create_collection(\n",
    "        collection_name=\"startups\",\n",
    "        vectors_config=client.get_fastembed_vector_params(),\n",
    "        # comment this line to use dense vectors only\n",
    "        sparse_vectors_config=client.get_fastembed_sparse_vector_params(),\n",
    "    )"
   ]
  },
  {
   "cell_type": "code",
   "execution_count": null,
   "id": "b1a1801ae59815ae",
   "metadata": {},
   "outputs": [],
   "source": [
    "import json\n",
    "\n",
    "payload_path = \"startups_demo.json\"\n",
    "metadata = []\n",
    "documents = []\n",
    "\n",
    "with open(payload_path) as fd:\n",
    "    for line in fd:\n",
    "        obj = json.loads(line)\n",
    "        documents.append(obj.pop(\"description\"))\n",
    "        metadata.append(obj)"
   ]
  },
  {
   "cell_type": "code",
   "execution_count": null,
   "id": "6f34232a0bd5f8af",
   "metadata": {},
   "outputs": [],
   "source": []
  },
  {
   "cell_type": "code",
   "execution_count": null,
   "id": "fabd60c185f1a333",
   "metadata": {},
   "outputs": [],
   "source": [
    "from tqdm import tqdm\n",
    "\n",
    "client.add(\n",
    "    collection_name=\"startups\",\n",
    "    documents=documents,\n",
    "    metadata=metadata,\n",
    "    ids=tqdm(range(len(documents))),\n",
    ")"
   ]
  },
  {
   "cell_type": "code",
   "execution_count": null,
   "id": "7cb5668f82bd5027",
   "metadata": {},
   "outputs": [],
   "source": [
    "from typing import List\n",
    "import json\n",
    "import numpy as np\n",
    "from qdrant_client import models\n",
    "\n",
    "\n",
    "def named_vectors(vectors: List[float], sparse_vectors: List[models.SparseVector]) -> dict:\n",
    "    # make sure to use the same client object as previously\n",
    "    # or `set_model_name` and `set_sparse_model_name` manually\n",
    "    dense_vector_name = client.get_vector_field_name()\n",
    "    sparse_vector_name = client.get_sparse_vector_field_name()\n",
    "    for vector, sparse_vector in zip(vectors, sparse_vectors):\n",
    "        yield {\n",
    "            dense_vector_name: vector,\n",
    "            sparse_vector_name: models.SparseVector(**sparse_vector),\n",
    "        }\n",
    "\n",
    "with open(\"dense_vectors.npy\", \"rb\") as f:\n",
    "    vectors = np.load(f)\n",
    "\n",
    "with open(\"sparse_vectors.json\", \"r\") as f:\n",
    "    sparse_vectors = json.load(f)\n",
    "\n",
    "with open(\"payload.json\", \"r\",) as f:\n",
    "    payload = json.load(f)\n",
    "\n",
    "client.upload_collection(\n",
    "    \"startups\", vectors=named_vectors(vectors, sparse_vectors), payload=payload, batch_size=256\n",
    ")"
   ]
  }
 ],
 "metadata": {
  "kernelspec": {
   "display_name": "Python 3",
   "language": "python",
   "name": "python3"
  },
  "language_info": {
   "codemirror_mode": {
    "name": "ipython",
    "version": 2
   },
   "file_extension": ".py",
   "mimetype": "text/x-python",
   "name": "python",
   "nbconvert_exporter": "python",
   "pygments_lexer": "ipython2",
   "version": "2.7.6"
  }
 },
 "nbformat": 4,
 "nbformat_minor": 5
}
