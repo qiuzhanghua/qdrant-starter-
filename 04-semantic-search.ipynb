{
 "cells": [
  {
   "cell_type": "code",
   "execution_count": null,
   "id": "initial_id",
   "metadata": {
    "collapsed": true
   },
   "outputs": [],
   "source": [
    "#pip install -U sentence-transformers"
   ]
  },
  {
   "cell_type": "code",
   "execution_count": null,
   "id": "97c6d4d7e2f3820",
   "metadata": {},
   "outputs": [],
   "source": [
    "#pip install -U qdrant-client"
   ]
  },
  {
   "cell_type": "code",
   "execution_count": null,
   "id": "590dfcad665a8035",
   "metadata": {},
   "outputs": [],
   "source": [
    "from qdrant_client import models, QdrantClient\n",
    "from sentence_transformers import SentenceTransformer"
   ]
  },
  {
   "cell_type": "code",
   "execution_count": null,
   "id": "31f3c1aeb843df35",
   "metadata": {},
   "outputs": [],
   "source": [
    "encoder = SentenceTransformer(\"all-MiniLM-L6-v2\")"
   ]
  },
  {
   "cell_type": "code",
   "execution_count": null,
   "id": "be391744d8f87be9",
   "metadata": {},
   "outputs": [],
   "source": [
    "documents = [\n",
    "    {\n",
    "        \"name\": \"The Time Machine\",\n",
    "        \"description\": \"A man travels through time and witnesses the evolution of humanity.\",\n",
    "        \"author\": \"H.G. Wells\",\n",
    "        \"year\": 1895,\n",
    "    },\n",
    "    {\n",
    "        \"name\": \"Ender's Game\",\n",
    "        \"description\": \"A young boy is trained to become a military leader in a war against an alien race.\",\n",
    "        \"author\": \"Orson Scott Card\",\n",
    "        \"year\": 1985,\n",
    "    },\n",
    "    {\n",
    "        \"name\": \"Brave New World\",\n",
    "        \"description\": \"A dystopian society where people are genetically engineered and conditioned to conform to a strict social hierarchy.\",\n",
    "        \"author\": \"Aldous Huxley\",\n",
    "        \"year\": 1932,\n",
    "    },\n",
    "    {\n",
    "        \"name\": \"The Hitchhiker's Guide to the Galaxy\",\n",
    "        \"description\": \"A comedic science fiction series following the misadventures of an unwitting human and his alien friend.\",\n",
    "        \"author\": \"Douglas Adams\",\n",
    "        \"year\": 1979,\n",
    "    },\n",
    "    {\n",
    "        \"name\": \"Dune\",\n",
    "        \"description\": \"A desert planet is the site of political intrigue and power struggles.\",\n",
    "        \"author\": \"Frank Herbert\",\n",
    "        \"year\": 1965,\n",
    "    },\n",
    "    {\n",
    "        \"name\": \"Foundation\",\n",
    "        \"description\": \"A mathematician develops a science to predict the future of humanity and works to save civilization from collapse.\",\n",
    "        \"author\": \"Isaac Asimov\",\n",
    "        \"year\": 1951,\n",
    "    },\n",
    "    {\n",
    "        \"name\": \"Snow Crash\",\n",
    "        \"description\": \"A futuristic world where the internet has evolved into a virtual reality metaverse.\",\n",
    "        \"author\": \"Neal Stephenson\",\n",
    "        \"year\": 1992,\n",
    "    },\n",
    "    {\n",
    "        \"name\": \"Neuromancer\",\n",
    "        \"description\": \"A hacker is hired to pull off a near-impossible hack and gets pulled into a web of intrigue.\",\n",
    "        \"author\": \"William Gibson\",\n",
    "        \"year\": 1984,\n",
    "    },\n",
    "    {\n",
    "        \"name\": \"The War of the Worlds\",\n",
    "        \"description\": \"A Martian invasion of Earth throws humanity into chaos.\",\n",
    "        \"author\": \"H.G. Wells\",\n",
    "        \"year\": 1898,\n",
    "    },\n",
    "    {\n",
    "        \"name\": \"The Hunger Games\",\n",
    "        \"description\": \"A dystopian society where teenagers are forced to fight to the death in a televised spectacle.\",\n",
    "        \"author\": \"Suzanne Collins\",\n",
    "        \"year\": 2008,\n",
    "    },\n",
    "    {\n",
    "        \"name\": \"The Andromeda Strain\",\n",
    "        \"description\": \"A deadly virus from outer space threatens to wipe out humanity.\",\n",
    "        \"author\": \"Michael Crichton\",\n",
    "        \"year\": 1969,\n",
    "    },\n",
    "    {\n",
    "        \"name\": \"The Left Hand of Darkness\",\n",
    "        \"description\": \"A human ambassador is sent to a planet where the inhabitants are genderless and can change gender at will.\",\n",
    "        \"author\": \"Ursula K. Le Guin\",\n",
    "        \"year\": 1969,\n",
    "    },\n",
    "    {\n",
    "        \"name\": \"The Three-Body Problem\",\n",
    "        \"description\": \"Humans encounter an alien civilization that lives in a dying system.\",\n",
    "        \"author\": \"Liu Cixin\",\n",
    "        \"year\": 2008,\n",
    "    },\n",
    "]"
   ]
  },
  {
   "cell_type": "code",
   "execution_count": null,
   "id": "d78b5a15ea124aca",
   "metadata": {},
   "outputs": [],
   "source": [
    "client = QdrantClient(\":memory:\")"
   ]
  },
  {
   "cell_type": "code",
   "execution_count": null,
   "id": "8225dfb5028d1d97",
   "metadata": {},
   "outputs": [],
   "source": [
    "client.create_collection(\n",
    "    collection_name=\"my_books\",\n",
    "    vectors_config=models.VectorParams(\n",
    "        size=encoder.get_sentence_embedding_dimension(),  # Vector size is defined by used model\n",
    "        distance=models.Distance.COSINE,\n",
    "    ),\n",
    ")"
   ]
  },
  {
   "cell_type": "code",
   "execution_count": null,
   "id": "49c92ca22fdec165",
   "metadata": {},
   "outputs": [],
   "source": [
    "client.upload_points(\n",
    "    collection_name=\"my_books\",\n",
    "    points=[\n",
    "        models.PointStruct(\n",
    "            id=idx, vector=encoder.encode(doc[\"description\"]).tolist(), payload=doc\n",
    "        )\n",
    "        for idx, doc in enumerate(documents)\n",
    "    ],\n",
    ")"
   ]
  },
  {
   "cell_type": "code",
   "execution_count": null,
   "id": "d2edde2e7e06e690",
   "metadata": {},
   "outputs": [],
   "source": [
    "hits = client.query_points(\n",
    "    collection_name=\"my_books\",\n",
    "    query=encoder.encode(\"alien invasion\").tolist(),\n",
    "    limit=3,\n",
    ").points\n",
    "\n",
    "for hit in hits:\n",
    "    print(hit.payload, \"score:\", hit.score)"
   ]
  },
  {
   "cell_type": "code",
   "execution_count": null,
   "id": "ef8620366b8174e6",
   "metadata": {},
   "outputs": [],
   "source": [
    "hits = client.query_points(\n",
    "    collection_name=\"my_books\",\n",
    "    query=encoder.encode(\"alien invasion\").tolist(),\n",
    "    query_filter=models.Filter(\n",
    "        must=[models.FieldCondition(key=\"year\", range=models.Range(gte=2000))]\n",
    "    ),\n",
    "    limit=1,\n",
    ").points\n",
    "\n",
    "for hit in hits:\n",
    "    print(hit.payload, \"score:\", hit.score)"
   ]
  },
  {
   "cell_type": "code",
   "execution_count": null,
   "id": "c920d9999c1c1bb6",
   "metadata": {},
   "outputs": [],
   "source": []
  }
 ],
 "metadata": {
  "kernelspec": {
   "display_name": "Python 3",
   "language": "python",
   "name": "python3"
  },
  "language_info": {
   "codemirror_mode": {
    "name": "ipython",
    "version": 2
   },
   "file_extension": ".py",
   "mimetype": "text/x-python",
   "name": "python",
   "nbconvert_exporter": "python",
   "pygments_lexer": "ipython2",
   "version": "2.7.6"
  }
 },
 "nbformat": 4,
 "nbformat_minor": 5
}
