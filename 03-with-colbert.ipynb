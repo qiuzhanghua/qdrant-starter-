{
 "cells": [
  {
   "cell_type": "code",
   "execution_count": null,
   "id": "initial_id",
   "metadata": {
    "collapsed": true
   },
   "outputs": [],
   "source": [
    "#pip install -q fastembed"
   ]
  },
  {
   "cell_type": "code",
   "execution_count": 1,
   "id": "fbb254e8214216a3",
   "metadata": {
    "ExecuteTime": {
     "end_time": "2024-12-12T09:55:19.482583Z",
     "start_time": "2024-12-12T09:55:19.210696Z"
    }
   },
   "outputs": [],
   "source": [
    "from fastembed import LateInteractionTextEmbedding"
   ]
  },
  {
   "cell_type": "code",
   "execution_count": 2,
   "id": "a2f335adba11669a",
   "metadata": {
    "ExecuteTime": {
     "end_time": "2024-12-12T09:55:24.431733Z",
     "start_time": "2024-12-12T09:55:24.428049Z"
    }
   },
   "outputs": [
    {
     "data": {
      "text/plain": [
       "[{'model': 'colbert-ir/colbertv2.0',\n",
       "  'dim': 128,\n",
       "  'description': 'Late interaction model',\n",
       "  'license': 'mit',\n",
       "  'size_in_GB': 0.44,\n",
       "  'sources': {'hf': 'colbert-ir/colbertv2.0'},\n",
       "  'model_file': 'model.onnx'},\n",
       " {'model': 'answerdotai/answerai-colbert-small-v1',\n",
       "  'dim': 96,\n",
       "  'description': 'Text embeddings, Unimodal (text), Multilingual (~100 languages), 512 input tokens truncation, 2024 year',\n",
       "  'license': 'apache-2.0',\n",
       "  'size_in_GB': 0.13,\n",
       "  'sources': {'hf': 'answerdotai/answerai-colbert-small-v1'},\n",
       "  'model_file': 'vespa_colbert.onnx'},\n",
       " {'model': 'jinaai/jina-colbert-v2',\n",
       "  'dim': 128,\n",
       "  'description': 'New model that expands capabilities of colbert-v1 with multilingual and context length of 8192, 2024 year',\n",
       "  'license': 'cc-by-nc-4.0',\n",
       "  'size_in_GB': 2.24,\n",
       "  'sources': {'hf': 'jinaai/jina-colbert-v2'},\n",
       "  'model_file': 'onnx/model.onnx',\n",
       "  'additional_files': ['onnx/model.onnx_data']}]"
      ]
     },
     "execution_count": 2,
     "metadata": {},
     "output_type": "execute_result"
    }
   ],
   "source": [
    "LateInteractionTextEmbedding.list_supported_models()"
   ]
  },
  {
   "cell_type": "code",
   "execution_count": 3,
   "id": "195da69a7048ae41",
   "metadata": {
    "ExecuteTime": {
     "end_time": "2024-12-12T09:56:16.902034Z",
     "start_time": "2024-12-12T09:55:32.246883Z"
    }
   },
   "outputs": [
    {
     "data": {
      "application/vnd.jupyter.widget-view+json": {
       "model_id": "b163cdb494a34e7693f4d9cedcf334ae",
       "version_major": 2,
       "version_minor": 0
      },
      "text/plain": [
       "Fetching 5 files:   0%|          | 0/5 [00:00<?, ?it/s]"
      ]
     },
     "metadata": {},
     "output_type": "display_data"
    },
    {
     "data": {
      "application/vnd.jupyter.widget-view+json": {
       "model_id": "4a3cbe752cb4494b8826e8e550aac4c6",
       "version_major": 2,
       "version_minor": 0
      },
      "text/plain": [
       "tokenizer.json: 0.00B [00:00, ?B/s]"
      ]
     },
     "metadata": {},
     "output_type": "display_data"
    },
    {
     "data": {
      "application/vnd.jupyter.widget-view+json": {
       "model_id": "750d2cd35ae0441abd2b447135ca49de",
       "version_major": 2,
       "version_minor": 0
      },
      "text/plain": [
       "special_tokens_map.json:   0%|          | 0.00/112 [00:00<?, ?B/s]"
      ]
     },
     "metadata": {},
     "output_type": "display_data"
    },
    {
     "data": {
      "application/vnd.jupyter.widget-view+json": {
       "model_id": "9fcc0dbc9aa3414a8430b1c713bc8272",
       "version_major": 2,
       "version_minor": 0
      },
      "text/plain": [
       "config.json:   0%|          | 0.00/432 [00:00<?, ?B/s]"
      ]
     },
     "metadata": {},
     "output_type": "display_data"
    },
    {
     "data": {
      "application/vnd.jupyter.widget-view+json": {
       "model_id": "44c66479744a4492a403dd581aaa2a4f",
       "version_major": 2,
       "version_minor": 0
      },
      "text/plain": [
       "model.onnx:   0%|          | 0.00/436M [00:00<?, ?B/s]"
      ]
     },
     "metadata": {},
     "output_type": "display_data"
    },
    {
     "data": {
      "application/vnd.jupyter.widget-view+json": {
       "model_id": "5d018c7aecd14687b34da703cfb9d6e8",
       "version_major": 2,
       "version_minor": 0
      },
      "text/plain": [
       "tokenizer_config.json:   0%|          | 0.00/405 [00:00<?, ?B/s]"
      ]
     },
     "metadata": {},
     "output_type": "display_data"
    }
   ],
   "source": [
    "embedding_model = LateInteractionTextEmbedding(\"colbert-ir/colbertv2.0\")"
   ]
  },
  {
   "cell_type": "code",
   "execution_count": 4,
   "id": "72e7df31060a23c2",
   "metadata": {
    "ExecuteTime": {
     "end_time": "2024-12-12T09:56:20.445061Z",
     "start_time": "2024-12-12T09:56:20.442105Z"
    }
   },
   "outputs": [],
   "source": [
    "descriptions = [\"In 1431, Jeanne d'Arc is placed on trial on charges of heresy. The ecclesiastical jurists attempt to force Jeanne to recant her claims of holy visions.\",\n",
    " \"A film projectionist longs to be a detective, and puts his meagre skills to work when he is framed by a rival for stealing his girlfriend's father's pocketwatch.\",\n",
    " \"A group of high-end professional thieves start to feel the heat from the LAPD when they unknowingly leave a clue at their latest heist.\",\n",
    " \"A petty thief with an utter resemblance to a samurai warlord is hired as the lord's double. When the warlord later dies the thief is forced to take up arms in his place.\",\n",
    " \"A young boy named Kubo must locate a magical suit of armour worn by his late father in order to defeat a vengeful spirit from the past.\",\n",
    " \"A biopic detailing the 2 decades that Punjabi Sikh revolutionary Udham Singh spent planning the assassination of the man responsible for the Jallianwala Bagh massacre.\",\n",
    " \"When a machine that allows therapists to enter their patients' dreams is stolen, all hell breaks loose. Only a young female therapist, Paprika, can stop it.\",\n",
    " \"An ordinary word processor has the worst night of his life after he agrees to visit a girl in Soho whom he met that evening at a coffee shop.\",\n",
    " \"A story that revolves around drug abuse in the affluent north Indian State of Punjab and how the youth there have succumbed to it en-masse resulting in a socio-economic decline.\",\n",
    " \"A world-weary political journalist picks up the story of a woman's search for her son, who was taken away from her decades ago after she became pregnant and was forced to live in a convent.\",\n",
    " \"Concurrent theatrical ending of the TV series Neon Genesis Evangelion (1995).\",\n",
    " \"During World War II, a rebellious U.S. Army Major is assigned a dozen convicted murderers to train and lead them into a mass assassination mission of German officers.\",\n",
    " \"The toys are mistakenly delivered to a day-care center instead of the attic right before Andy leaves for college, and it's up to Woody to convince the other toys that they weren't abandoned and to return home.\",\n",
    " \"A soldier fighting aliens gets to relive the same day over and over again, the day restarting every time he dies.\",\n",
    " \"After two male musicians witness a mob hit, they flee the state in an all-female band disguised as women, but further complications set in.\",\n",
    " \"Exiled into the dangerous forest by her wicked stepmother, a princess is rescued by seven dwarf miners who make her part of their household.\",\n",
    " \"A renegade reporter trailing a young runaway heiress for a big story joins her on a bus heading from Florida to New York, and they end up stuck with each other when the bus leaves them behind at one of the stops.\",\n",
    " \"Story of 40-man Turkish task force who must defend a relay station.\",\n",
    " \"Spinal Tap, one of England's loudest bands, is chronicled by film director Marty DiBergi on what proves to be a fateful tour.\",\n",
    " \"Oskar, an overlooked and bullied boy, finds love and revenge through Eli, a beautiful but peculiar girl.\"]"
   ]
  },
  {
   "cell_type": "code",
   "execution_count": 5,
   "id": "d550011c703a90ca",
   "metadata": {
    "ExecuteTime": {
     "end_time": "2024-12-12T09:56:32.008435Z",
     "start_time": "2024-12-12T09:56:31.577615Z"
    }
   },
   "outputs": [],
   "source": [
    "descriptions_embeddings = list(\n",
    "    embedding_model.embed(descriptions)\n",
    ")"
   ]
  },
  {
   "cell_type": "code",
   "execution_count": 6,
   "id": "968ad1e5b3d9f396",
   "metadata": {
    "ExecuteTime": {
     "end_time": "2024-12-12T09:56:38.343775Z",
     "start_time": "2024-12-12T09:56:38.340209Z"
    }
   },
   "outputs": [
    {
     "data": {
      "text/plain": [
       "(48, 128)"
      ]
     },
     "execution_count": 6,
     "metadata": {},
     "output_type": "execute_result"
    }
   ],
   "source": [
    "descriptions_embeddings[0].shape"
   ]
  },
  {
   "cell_type": "code",
   "execution_count": null,
   "id": "2d2e89b7747795df",
   "metadata": {},
   "outputs": [],
   "source": [
    "!pip install qdrant-client"
   ]
  },
  {
   "cell_type": "code",
   "execution_count": 7,
   "id": "5dccb5c55a54ac9e",
   "metadata": {
    "ExecuteTime": {
     "end_time": "2024-12-12T09:56:58.677779Z",
     "start_time": "2024-12-12T09:56:58.187012Z"
    }
   },
   "outputs": [],
   "source": [
    "from qdrant_client import QdrantClient, models\n",
    "\n",
    "qdrant_client = QdrantClient(\":memory:\") # Qdrant is running from RAM."
   ]
  },
  {
   "cell_type": "code",
   "execution_count": 8,
   "id": "739e1e8a94144f08",
   "metadata": {
    "ExecuteTime": {
     "end_time": "2024-12-12T09:57:06.172795Z",
     "start_time": "2024-12-12T09:57:06.169818Z"
    }
   },
   "outputs": [
    {
     "data": {
      "text/plain": [
       "True"
      ]
     },
     "execution_count": 8,
     "metadata": {},
     "output_type": "execute_result"
    }
   ],
   "source": [
    "qdrant_client.create_collection(\n",
    "    collection_name=\"movies\",\n",
    "    vectors_config=models.VectorParams(\n",
    "        size=128, #size of each vector produced by ColBERT\n",
    "        distance=models.Distance.COSINE, #similarity metric between each vector\n",
    "        multivector_config=models.MultiVectorConfig(\n",
    "            comparator=models.MultiVectorComparator.MAX_SIM #similarity metric between multivectors (matrices)\n",
    "        ),\n",
    "    ),\n",
    ")"
   ]
  },
  {
   "cell_type": "code",
   "execution_count": 9,
   "id": "b2aa494bc5e3f44",
   "metadata": {
    "ExecuteTime": {
     "end_time": "2024-12-12T09:57:21.300989Z",
     "start_time": "2024-12-12T09:57:21.296620Z"
    }
   },
   "outputs": [],
   "source": [
    "metadata = [{\"movie_name\": \"The Passion of Joan of Arc\", \"movie_watch_time_min\": 114, \"movie_description\": \"In 1431, Jeanne d'Arc is placed on trial on charges of heresy. The ecclesiastical jurists attempt to force Jeanne to recant her claims of holy visions.\"},\n",
    "{\"movie_name\": \"Sherlock Jr.\", \"movie_watch_time_min\": 45, \"movie_description\": \"A film projectionist longs to be a detective, and puts his meagre skills to work when he is framed by a rival for stealing his girlfriend's father's pocketwatch.\"},\n",
    "{\"movie_name\": \"Heat\", \"movie_watch_time_min\": 170, \"movie_description\": \"A group of high-end professional thieves start to feel the heat from the LAPD when they unknowingly leave a clue at their latest heist.\"},\n",
    "{\"movie_name\": \"Kagemusha\", \"movie_watch_time_min\": 162, \"movie_description\": \"A petty thief with an utter resemblance to a samurai warlord is hired as the lord's double. When the warlord later dies the thief is forced to take up arms in his place.\"},\n",
    "{\"movie_name\": \"Kubo and the Two Strings\", \"movie_watch_time_min\": 101, \"movie_description\": \"A young boy named Kubo must locate a magical suit of armour worn by his late father in order to defeat a vengeful spirit from the past.\"},\n",
    "{\"movie_name\": \"Sardar Udham\", \"movie_watch_time_min\": 164, \"movie_description\": \"A biopic detailing the 2 decades that Punjabi Sikh revolutionary Udham Singh spent planning the assassination of the man responsible for the Jallianwala Bagh massacre.\"},\n",
    "{\"movie_name\": \"Paprika\", \"movie_watch_time_min\": 90, \"movie_description\": \"When a machine that allows therapists to enter their patients' dreams is stolen, all hell breaks loose. Only a young female therapist, Paprika, can stop it.\"},\n",
    "{\"movie_name\": \"After Hours\", \"movie_watch_time_min\": 97, \"movie_description\": \"An ordinary word processor has the worst night of his life after he agrees to visit a girl in Soho whom he met that evening at a coffee shop.\"},\n",
    "{\"movie_name\": \"Udta Punjab\", \"movie_watch_time_min\": 148, \"movie_description\": \"A story that revolves around drug abuse in the affluent north Indian State of Punjab and how the youth there have succumbed to it en-masse resulting in a socio-economic decline.\"},\n",
    "{\"movie_name\": \"Philomena\", \"movie_watch_time_min\": 98, \"movie_description\": \"A world-weary political journalist picks up the story of a woman's search for her son, who was taken away from her decades ago after she became pregnant and was forced to live in a convent.\"},\n",
    "{\"movie_name\": \"Neon Genesis Evangelion: The End of Evangelion\", \"movie_watch_time_min\": 87, \"movie_description\": \"Concurrent theatrical ending of the TV series Neon Genesis Evangelion (1995).\"},\n",
    "{\"movie_name\": \"The Dirty Dozen\", \"movie_watch_time_min\": 150, \"movie_description\": \"During World War II, a rebellious U.S. Army Major is assigned a dozen convicted murderers to train and lead them into a mass assassination mission of German officers.\"},\n",
    "{\"movie_name\": \"Toy Story 3\", \"movie_watch_time_min\": 103, \"movie_description\": \"The toys are mistakenly delivered to a day-care center instead of the attic right before Andy leaves for college, and it's up to Woody to convince the other toys that they weren't abandoned and to return home.\"},\n",
    "{\"movie_name\": \"Edge of Tomorrow\", \"movie_watch_time_min\": 113, \"movie_description\": \"A soldier fighting aliens gets to relive the same day over and over again, the day restarting every time he dies.\"},\n",
    "{\"movie_name\": \"Some Like It Hot\", \"movie_watch_time_min\": 121, \"movie_description\": \"After two male musicians witness a mob hit, they flee the state in an all-female band disguised as women, but further complications set in.\"},\n",
    "{\"movie_name\": \"Snow White and the Seven Dwarfs\", \"movie_watch_time_min\": 83, \"movie_description\": \"Exiled into the dangerous forest by her wicked stepmother, a princess is rescued by seven dwarf miners who make her part of their household.\"},\n",
    "{\"movie_name\": \"It Happened One Night\", \"movie_watch_time_min\": 105, \"movie_description\": \"A renegade reporter trailing a young runaway heiress for a big story joins her on a bus heading from Florida to New York, and they end up stuck with each other when the bus leaves them behind at one of the stops.\"},\n",
    "{\"movie_name\": \"Nefes: Vatan Sagolsun\", \"movie_watch_time_min\": 128, \"movie_description\": \"Story of 40-man Turkish task force who must defend a relay station.\"},\n",
    "{\"movie_name\": \"This Is Spinal Tap\", \"movie_watch_time_min\": 82, \"movie_description\": \"Spinal Tap, one of England's loudest bands, is chronicled by film director Marty DiBergi on what proves to be a fateful tour.\"},\n",
    "{\"movie_name\": \"Let the Right One In\", \"movie_watch_time_min\": 114, \"movie_description\": \"Oskar, an overlooked and bullied boy, finds love and revenge through Eli, a beautiful but peculiar girl.\"}]"
   ]
  },
  {
   "cell_type": "code",
   "execution_count": 10,
   "id": "c31ada7d7050e53d",
   "metadata": {
    "ExecuteTime": {
     "end_time": "2024-12-12T09:57:29.711796Z",
     "start_time": "2024-12-12T09:57:29.691735Z"
    }
   },
   "outputs": [],
   "source": [
    "qdrant_client.upload_points(\n",
    "    collection_name=\"movies\",\n",
    "    points=[\n",
    "        models.PointStruct(\n",
    "            id=idx,\n",
    "            payload=metadata[idx],\n",
    "            vector=vector\n",
    "        )\n",
    "        for idx, vector in enumerate(descriptions_embeddings)\n",
    "    ],\n",
    ")"
   ]
  },
  {
   "cell_type": "code",
   "execution_count": 11,
   "id": "5555aced57643eae",
   "metadata": {
    "ExecuteTime": {
     "end_time": "2024-12-12T09:57:38.853963Z",
     "start_time": "2024-12-12T09:57:38.829154Z"
    }
   },
   "outputs": [
    {
     "data": {
      "text/plain": [
       "QueryResponse(points=[ScoredPoint(id=4, version=0, score=12.06346774227796, payload={'movie_name': 'Kubo and the Two Strings', 'movie_watch_time_min': 101, 'movie_description': 'A young boy named Kubo must locate a magical suit of armour worn by his late father in order to defeat a vengeful spirit from the past.'}, vector=None, shard_key=None, order_value=None)])"
      ]
     },
     "execution_count": 11,
     "metadata": {},
     "output_type": "execute_result"
    }
   ],
   "source": [
    "qdrant_client.query_points(\n",
    "    collection_name=\"movies\",\n",
    "    query=list(embedding_model.query_embed(\"A movie for kids with fantasy elements and wonders\"))[0], #converting generator object into numpy.ndarray\n",
    "    limit=1, #How many closest to the query movies we would like to get\n",
    "    #with_vectors=True, #If this option is used, vectors will also be returned\n",
    "    with_payload=True #So metadata is provided in the output\n",
    ")"
   ]
  },
  {
   "cell_type": "code",
   "execution_count": null,
   "id": "d46f6d021ea2abf",
   "metadata": {},
   "outputs": [],
   "source": []
  }
 ],
 "metadata": {
  "kernelspec": {
   "display_name": "Python 3",
   "language": "python",
   "name": "python3"
  },
  "language_info": {
   "codemirror_mode": {
    "name": "ipython",
    "version": 2
   },
   "file_extension": ".py",
   "mimetype": "text/x-python",
   "name": "python",
   "nbconvert_exporter": "python",
   "pygments_lexer": "ipython2",
   "version": "2.7.6"
  }
 },
 "nbformat": 4,
 "nbformat_minor": 5
}
