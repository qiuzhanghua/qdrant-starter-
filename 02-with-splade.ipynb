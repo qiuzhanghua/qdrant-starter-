{
 "cells": [
  {
   "cell_type": "code",
   "execution_count": null,
   "id": "initial_id",
   "metadata": {
    "collapsed": true
   },
   "outputs": [],
   "source": [
    "#pip install -q fastembed"
   ]
  },
  {
   "cell_type": "code",
   "execution_count": 1,
   "id": "38fb9bf2fc05d339",
   "metadata": {
    "ExecuteTime": {
     "end_time": "2024-12-12T09:50:48.324689Z",
     "start_time": "2024-12-12T09:50:48.035835Z"
    }
   },
   "outputs": [],
   "source": [
    "from fastembed import SparseTextEmbedding, SparseEmbedding\n",
    "from typing import List"
   ]
  },
  {
   "cell_type": "markdown",
   "id": "9115fef5",
   "metadata": {},
   "source": []
  },
  {
   "cell_type": "code",
   "execution_count": 2,
   "id": "22d16dda65e7a6d1",
   "metadata": {
    "ExecuteTime": {
     "end_time": "2024-12-12T09:50:54.253603Z",
     "start_time": "2024-12-12T09:50:54.250016Z"
    }
   },
   "outputs": [
    {
     "data": {
      "text/plain": [
       "[{'model': 'prithivida/Splade_PP_en_v1',\n",
       "  'vocab_size': 30522,\n",
       "  'description': 'Independent Implementation of SPLADE++ Model for English.',\n",
       "  'license': 'apache-2.0',\n",
       "  'size_in_GB': 0.532,\n",
       "  'sources': {'hf': 'Qdrant/SPLADE_PP_en_v1'},\n",
       "  'model_file': 'model.onnx'},\n",
       " {'model': 'prithvida/Splade_PP_en_v1',\n",
       "  'vocab_size': 30522,\n",
       "  'description': 'Independent Implementation of SPLADE++ Model for English.',\n",
       "  'license': 'apache-2.0',\n",
       "  'size_in_GB': 0.532,\n",
       "  'sources': {'hf': 'Qdrant/SPLADE_PP_en_v1'},\n",
       "  'model_file': 'model.onnx'},\n",
       " {'model': 'Qdrant/bm42-all-minilm-l6-v2-attentions',\n",
       "  'vocab_size': 30522,\n",
       "  'description': 'Light sparse embedding model, which assigns an importance score to each token in the text',\n",
       "  'license': 'apache-2.0',\n",
       "  'size_in_GB': 0.09,\n",
       "  'sources': {'hf': 'Qdrant/all_miniLM_L6_v2_with_attentions'},\n",
       "  'model_file': 'model.onnx',\n",
       "  'additional_files': ['stopwords.txt'],\n",
       "  'requires_idf': True},\n",
       " {'model': 'Qdrant/bm25',\n",
       "  'description': 'BM25 as sparse embeddings meant to be used with Qdrant',\n",
       "  'license': 'apache-2.0',\n",
       "  'size_in_GB': 0.01,\n",
       "  'sources': {'hf': 'Qdrant/bm25'},\n",
       "  'model_file': 'mock.file',\n",
       "  'additional_files': ['arabic.txt',\n",
       "   'azerbaijani.txt',\n",
       "   'basque.txt',\n",
       "   'bengali.txt',\n",
       "   'catalan.txt',\n",
       "   'chinese.txt',\n",
       "   'danish.txt',\n",
       "   'dutch.txt',\n",
       "   'english.txt',\n",
       "   'finnish.txt',\n",
       "   'french.txt',\n",
       "   'german.txt',\n",
       "   'greek.txt',\n",
       "   'hebrew.txt',\n",
       "   'hinglish.txt',\n",
       "   'hungarian.txt',\n",
       "   'indonesian.txt',\n",
       "   'italian.txt',\n",
       "   'kazakh.txt',\n",
       "   'nepali.txt',\n",
       "   'norwegian.txt',\n",
       "   'portuguese.txt',\n",
       "   'romanian.txt',\n",
       "   'russian.txt',\n",
       "   'slovene.txt',\n",
       "   'spanish.txt',\n",
       "   'swedish.txt',\n",
       "   'tajik.txt',\n",
       "   'turkish.txt'],\n",
       "  'requires_idf': True}]"
      ]
     },
     "execution_count": 2,
     "metadata": {},
     "output_type": "execute_result"
    }
   ],
   "source": [
    "SparseTextEmbedding.list_supported_models()"
   ]
  },
  {
   "cell_type": "code",
   "execution_count": 4,
   "id": "aa59dfb689cc432a",
   "metadata": {
    "ExecuteTime": {
     "end_time": "2024-12-12T09:52:26.565261Z",
     "start_time": "2024-12-12T09:52:24.069452Z"
    }
   },
   "outputs": [
    {
     "data": {
      "application/vnd.jupyter.widget-view+json": {
       "model_id": "ba32e3151ad4455c96fb5ea4482da329",
       "version_major": 2,
       "version_minor": 0
      },
      "text/plain": [
       "Fetching 5 files:   0%|          | 0/5 [00:00<?, ?it/s]"
      ]
     },
     "metadata": {},
     "output_type": "display_data"
    }
   ],
   "source": [
    "model_name = \"prithivida/Splade_PP_en_v1\"\n",
    "# This triggers the model download\n",
    "model = SparseTextEmbedding(model_name=model_name)"
   ]
  },
  {
   "cell_type": "code",
   "execution_count": 5,
   "id": "fc5acc41181545f",
   "metadata": {
    "ExecuteTime": {
     "end_time": "2024-12-12T09:52:43.490980Z",
     "start_time": "2024-12-12T09:52:43.488896Z"
    }
   },
   "outputs": [],
   "source": [
    "documents: List[str] = [\n",
    "    \"Chandrayaan-3 is India's third lunar mission\",\n",
    "    \"It aimed to land a rover on the Moon's surface - joining the US, China and Russia\",\n",
    "    \"The mission is a follow-up to Chandrayaan-2, which had partial success\",\n",
    "    \"Chandrayaan-3 will be launched by the Indian Space Research Organisation (ISRO)\",\n",
    "    \"The estimated cost of the mission is around $35 million\",\n",
    "    \"It will carry instruments to study the lunar surface and atmosphere\",\n",
    "    \"Chandrayaan-3 landed on the Moon's surface on 23rd August 2023\",\n",
    "    \"It consists of a lander named Vikram and a rover named Pragyan similar to Chandrayaan-2. Its propulsion module would act like an orbiter.\",\n",
    "    \"The propulsion module carries the lander and rover configuration until the spacecraft is in a 100-kilometre (62 mi) lunar orbit\",\n",
    "    \"The mission used GSLV Mk III rocket for its launch\",\n",
    "    \"Chandrayaan-3 was launched from the Satish Dhawan Space Centre in Sriharikota\",\n",
    "    \"Chandrayaan-3 was launched earlier in the year 2023\",\n",
    "]"
   ]
  },
  {
   "cell_type": "code",
   "execution_count": 6,
   "id": "9232e834c76705a3",
   "metadata": {
    "ExecuteTime": {
     "end_time": "2024-12-12T09:52:56.830454Z",
     "start_time": "2024-12-12T09:52:56.574114Z"
    }
   },
   "outputs": [],
   "source": [
    "sparse_embeddings_list: List[SparseEmbedding] = list(\n",
    "    model.embed(documents, batch_size=6)\n",
    ")"
   ]
  },
  {
   "cell_type": "code",
   "execution_count": 7,
   "id": "58517bdf27a7cfeb",
   "metadata": {
    "ExecuteTime": {
     "end_time": "2024-12-12T09:53:05.212376Z",
     "start_time": "2024-12-12T09:53:05.208585Z"
    }
   },
   "outputs": [
    {
     "data": {
      "text/plain": [
       "SparseEmbedding(values=array([0.05297344, 0.01963442, 0.36459157, 1.38508499, 0.71776628,\n",
       "       0.12668033, 0.46230859, 0.44676831, 0.26897514, 1.01519847,\n",
       "       1.5655334 , 0.29411697, 1.53102303, 0.59785676, 1.10018146,\n",
       "       0.02079611, 0.09955791, 0.44249129, 0.09747908, 1.53519869,\n",
       "       1.36765587, 0.15740731, 0.49882406, 0.38628644, 0.76612771,\n",
       "       1.2580514 , 0.3905834 , 0.27236396, 0.45152026, 0.48261768,\n",
       "       0.26084885, 1.35912943, 0.70710433, 1.71639705]), indices=array([ 1010,  1011,  1016,  1017,  2001,  2018,  2034,  2093,  2117,\n",
       "        2319,  2353,  2509,  2634,  2686,  2796,  2817,  2922,  2959,\n",
       "        3003,  3148,  3260,  3390,  3462,  3523,  3822,  4231,  4316,\n",
       "        4774,  5590,  5871,  6416, 11926, 12076, 16469]))"
      ]
     },
     "execution_count": 7,
     "metadata": {},
     "output_type": "execute_result"
    }
   ],
   "source": [
    "index = 0\n",
    "sparse_embeddings_list[index]"
   ]
  },
  {
   "cell_type": "code",
   "execution_count": 8,
   "id": "dc0728660b67ddae",
   "metadata": {
    "ExecuteTime": {
     "end_time": "2024-12-12T09:53:17.782571Z",
     "start_time": "2024-12-12T09:53:17.780058Z"
    }
   },
   "outputs": [
    {
     "name": "stdout",
     "output_type": "stream",
     "text": [
      "Token at index 1010 has weight 0.052973438054323196\n",
      "Token at index 1011 has weight 0.019634416326880455\n",
      "Token at index 1016 has weight 0.3645915687084198\n",
      "Token at index 1017 has weight 1.3850849866867065\n",
      "Token at index 2001 has weight 0.717766284942627\n"
     ]
    }
   ],
   "source": [
    "for i in range(5):\n",
    "    print(f\"Token at index {sparse_embeddings_list[0].indices[i]} has weight {sparse_embeddings_list[0].values[i]}\")"
   ]
  },
  {
   "cell_type": "code",
   "execution_count": 9,
   "id": "f1f282a15f0a5075",
   "metadata": {
    "ExecuteTime": {
     "end_time": "2024-12-12T09:53:40.629016Z",
     "start_time": "2024-12-12T09:53:35.274939Z"
    }
   },
   "outputs": [
    {
     "data": {
      "application/vnd.jupyter.widget-view+json": {
       "model_id": "531552f21549421cbb8805b2a8219c81",
       "version_major": 2,
       "version_minor": 0
      },
      "text/plain": [
       "tokenizer.json: 0.00B [00:00, ?B/s]"
      ]
     },
     "metadata": {},
     "output_type": "display_data"
    }
   ],
   "source": [
    "import json\n",
    "from tokenizers import Tokenizer\n",
    "\n",
    "tokenizer = Tokenizer.from_pretrained(SparseTextEmbedding.list_supported_models()[0][\"sources\"][\"hf\"])"
   ]
  },
  {
   "cell_type": "code",
   "execution_count": 10,
   "id": "3ddf63fd158ade6d",
   "metadata": {
    "ExecuteTime": {
     "end_time": "2024-12-12T09:53:59.009768Z",
     "start_time": "2024-12-12T09:53:59.006331Z"
    }
   },
   "outputs": [
    {
     "name": "stdout",
     "output_type": "stream",
     "text": [
      "{\n",
      "    \"chandra\": 1.7163970470428467,\n",
      "    \"third\": 1.5655333995819092,\n",
      "    \"##ya\": 1.53519868850708,\n",
      "    \"india\": 1.5310230255126953,\n",
      "    \"3\": 1.3850849866867065,\n",
      "    \"mission\": 1.367655873298645,\n",
      "    \"lunar\": 1.3591294288635254,\n",
      "    \"moon\": 1.2580513954162598,\n",
      "    \"indian\": 1.1001814603805542,\n",
      "    \"##an\": 1.0151984691619873,\n",
      "    \"3rd\": 0.7661277055740356,\n",
      "    \"was\": 0.717766284942627,\n",
      "    \"spacecraft\": 0.7071043252944946,\n",
      "    \"space\": 0.5978567600250244,\n",
      "    \"flight\": 0.4988240599632263,\n",
      "    \"satellite\": 0.48261767625808716,\n",
      "    \"first\": 0.4623085856437683,\n",
      "    \"expedition\": 0.45152026414871216,\n",
      "    \"three\": 0.44676831364631653,\n",
      "    \"fourth\": 0.4424912929534912,\n",
      "    \"vehicle\": 0.3905833959579468,\n",
      "    \"iii\": 0.3862864375114441,\n",
      "    \"2\": 0.3645915687084198,\n",
      "    \"##3\": 0.2941169738769531,\n",
      "    \"planet\": 0.27236396074295044,\n",
      "    \"second\": 0.2689751386642456,\n",
      "    \"missions\": 0.26084885001182556,\n",
      "    \"launched\": 0.15740731358528137,\n",
      "    \"had\": 0.12668032944202423,\n",
      "    \"largest\": 0.09955791383981705,\n",
      "    \"leader\": 0.09747908264398575,\n",
      "    \",\": 0.052973438054323196,\n",
      "    \"study\": 0.02079611085355282,\n",
      "    \"-\": 0.019634416326880455\n",
      "}\n"
     ]
    }
   ],
   "source": [
    "def get_tokens_and_weights(sparse_embedding, tokenizer):\n",
    "    token_weight_dict = {}\n",
    "    for i in range(len(sparse_embedding.indices)):\n",
    "        token = tokenizer.decode([sparse_embedding.indices[i]])\n",
    "        weight = sparse_embedding.values[i]\n",
    "        token_weight_dict[token] = weight\n",
    "\n",
    "    # Sort the dictionary by weights\n",
    "    token_weight_dict = dict(sorted(token_weight_dict.items(), key=lambda item: item[1], reverse=True))\n",
    "    return token_weight_dict\n",
    "\n",
    "# Test the function with the first SparseEmbedding\n",
    "print(json.dumps(get_tokens_and_weights(sparse_embeddings_list[index], tokenizer), indent=4))"
   ]
  },
  {
   "cell_type": "code",
   "execution_count": null,
   "id": "ea5e92783537a263",
   "metadata": {},
   "outputs": [],
   "source": []
  }
 ],
 "metadata": {
  "kernelspec": {
   "display_name": "Python 3",
   "language": "python",
   "name": "python3"
  },
  "language_info": {
   "codemirror_mode": {
    "name": "ipython",
    "version": 2
   },
   "file_extension": ".py",
   "mimetype": "text/x-python",
   "name": "python",
   "nbconvert_exporter": "python",
   "pygments_lexer": "ipython2",
   "version": "2.7.6"
  }
 },
 "nbformat": 4,
 "nbformat_minor": 5
}
